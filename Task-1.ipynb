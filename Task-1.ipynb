{
 "cells": [
  {
   "cell_type": "code",
   "execution_count": 1,
   "id": "31346c5f-d9b9-43a4-b0a2-4111364a0aed",
   "metadata": {},
   "outputs": [
    {
     "name": "stdout",
     "output_type": "stream",
     "text": [
      "[10, 11, 22, 33, 44, 55, 66, 77, 88]\n"
     ]
    }
   ],
   "source": [
    "#creating a list\n",
    "l=[10,11,22,33,44,55,66,77,88]\n",
    "print(l)\n"
   ]
  },
  {
   "cell_type": "code",
   "execution_count": 2,
   "id": "f8e70456-1a20-440b-8e04-30b0c385df04",
   "metadata": {},
   "outputs": [
    {
     "name": "stdout",
     "output_type": "stream",
     "text": [
      "[10, 11, 22, 33, 44, 55, 66, 77, 88, 99]\n",
      "[10, 11, 22, 33, 55, 66, 77, 88, 99]\n"
     ]
    }
   ],
   "source": [
    "l.append(99)\n",
    "print(l)\n",
    "l.remove(44)\n",
    "print(l)\n"
   ]
  },
  {
   "cell_type": "code",
   "execution_count": 3,
   "id": "90adf04d-9a39-4dd7-994c-cb8a2280eb4e",
   "metadata": {},
   "outputs": [
    {
     "name": "stdout",
     "output_type": "stream",
     "text": [
      "update list: [10, 11, 26, 33, 55, 66, 77, 88, 99]\n"
     ]
    }
   ],
   "source": [
    "l[2]=26\n",
    "print(\"update list:\",l)\n",
    "\n"
   ]
  },
  {
   "cell_type": "code",
   "execution_count": 5,
   "id": "1828ad91-741d-4d78-8daa-e0cd02e43cff",
   "metadata": {},
   "outputs": [
    {
     "name": "stdout",
     "output_type": "stream",
     "text": [
      "{'Student': 'Rollnumber', 'City': 'Village', 'State': 'Capital', 'Earth': 'Sun'}\n"
     ]
    }
   ],
   "source": [
    "#creating a dictionary\n",
    "d={\"Student\":\"Rollnumber\", \"City\": \"Village\", \"State\":\"Capital\", \"Earth\": \"Sun\"}\n",
    "print(d)\n"
   ]
  },
  {
   "cell_type": "code",
   "execution_count": 8,
   "id": "9c494747-131c-4f3d-b0ee-7feb9160cffb",
   "metadata": {},
   "outputs": [
    {
     "name": "stdout",
     "output_type": "stream",
     "text": [
      "Adding {'Student': 'Rollnumber', 'City': 'Village', 'State': 'Capital', 'Earth': 'Sun', 'men': 'women'}\n",
      "Removing {'Student': 'Rollnumber', 'City': 'Village', 'Earth': 'Sun', 'men': 'women'}\n"
     ]
    }
   ],
   "source": [
    "d[\"men\"]=\"women\"\n",
    "print(\"Adding\", d)\n",
    "del d[\"State\"]\n",
    "print(\"Removing\", d)\n"
   ]
  },
  {
   "cell_type": "code",
   "execution_count": 9,
   "id": "2fbe37cc-7005-46f6-8e24-182578bf013a",
   "metadata": {},
   "outputs": [
    {
     "name": "stdout",
     "output_type": "stream",
     "text": [
      "Updated: {'Student': 'Rollnumber', 'City': 'Town', 'Earth': 'Sun', 'men': 'women'}\n"
     ]
    }
   ],
   "source": [
    "d[\"City\"]=\"Town\"\n",
    "print(\"Updated:\", d)"
   ]
  },
  {
   "cell_type": "code",
   "execution_count": 10,
   "id": "d9e31bb7-7dad-47b9-a6e0-b05b9a63fa32",
   "metadata": {},
   "outputs": [
    {
     "name": "stdout",
     "output_type": "stream",
     "text": [
      "{1, 2, 3, 4, 5, 6, 7, 8, 9}\n"
     ]
    },
    {
     "data": {
      "text/plain": [
       "set"
      ]
     },
     "execution_count": 10,
     "metadata": {},
     "output_type": "execute_result"
    }
   ],
   "source": [
    "#Creating a set\n",
    "s={1,2,3,4,5,6,7,8,9}\n",
    "print(s)\n",
    "type(s)\n"
   ]
  },
  {
   "cell_type": "code",
   "execution_count": 11,
   "id": "1315d519-2fab-4796-99b7-e88788d740e3",
   "metadata": {},
   "outputs": [
    {
     "name": "stdout",
     "output_type": "stream",
     "text": [
      "Add: {1, 2, 3, 4, 5, 6, 7, 8, 9, 10}\n",
      "Remove: {1, 2, 3, 4, 6, 7, 8, 9, 10}\n"
     ]
    }
   ],
   "source": [
    "s.add(10)\n",
    "print(\"Add:\",s)\n",
    "s.remove(5)\n",
    "print(\"Remove:\",s)\n",
    "\n"
   ]
  },
  {
   "cell_type": "code",
   "execution_count": 12,
   "id": "90111a6c-9573-47ef-9956-c6d2c8d95761",
   "metadata": {},
   "outputs": [
    {
     "name": "stdout",
     "output_type": "stream",
     "text": [
      "Updated: {1, 2, 3, 4, 6, 7, 8, 10, 12}\n"
     ]
    }
   ],
   "source": [
    "s.discard(9)\n",
    "s.add(12)\n",
    "print(\"Updated:\",s)"
   ]
  },
  {
   "cell_type": "code",
   "execution_count": null,
   "id": "2dfc852f-8136-4d98-95ff-3855bed4c4ad",
   "metadata": {},
   "outputs": [],
   "source": []
  }
 ],
 "metadata": {
  "kernelspec": {
   "display_name": "Python 3 (ipykernel)",
   "language": "python",
   "name": "python3"
  },
  "language_info": {
   "codemirror_mode": {
    "name": "ipython",
    "version": 3
   },
   "file_extension": ".py",
   "mimetype": "text/x-python",
   "name": "python",
   "nbconvert_exporter": "python",
   "pygments_lexer": "ipython3",
   "version": "3.11.7"
  }
 },
 "nbformat": 4,
 "nbformat_minor": 5
}
